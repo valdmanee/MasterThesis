{
 "cells": [
  {
   "cell_type": "markdown",
   "metadata": {},
   "source": [
    "## Preprocessing data"
   ]
  },
  {
   "cell_type": "code",
   "execution_count": 1,
   "metadata": {},
   "outputs": [
    {
     "name": "stderr",
     "output_type": "stream",
     "text": [
      "C:\\Users\\elinavaldmane\\AppData\\Local\\Temp\\ipykernel_38592\\2430489992.py:5: DtypeWarning: Columns (224,389) have mixed types. Specify dtype option on import or set low_memory=False.\n",
      "  data = pd.read_csv(r\"C:\\Users\\elinavaldmane\\Desktop\\Thesis_4.0\\Data\\process_data_6.1.csv\")\n"
     ]
    }
   ],
   "source": [
    "import pandas as pd\n",
    "import numpy as np\n",
    "\n",
    "# CSV load\n",
    "data = pd.read_csv(r\"Data for thesis.csv\")\n"
   ]
  },
  {
   "cell_type": "code",
   "execution_count": 2,
   "metadata": {},
   "outputs": [
    {
     "name": "stdout",
     "output_type": "stream",
     "text": [
      "   Id  Data_source  _Key            Timestamp MachineID  MachineNr  \\\n",
      "0   3          463   885  2023-01-25 17:26:02      WB-2          1   \n",
      "1   4          464     1  2023-01-26 11:12:29      WB-2          1   \n",
      "2   6          464     3  2023-01-26 11:12:33      WB-2          1   \n",
      "3   8          464     5  2023-01-26 11:12:38      WB-2          1   \n",
      "4  10          464     7  2023-01-26 11:12:42      WB-2          1   \n",
      "5  11          464     8  2023-01-26 11:12:44      WB-2          1   \n",
      "6  13          464    10  2023-01-26 11:12:48      WB-2          1   \n",
      "7  14          464    11  2023-01-26 11:12:50      WB-2          1   \n",
      "8  20          464    17  2023-01-26 11:13:03      WB-2          1   \n",
      "9  22          464    19  2023-01-26 11:13:07      WB-2          1   \n",
      "\n",
      "              PartID                       PgmName  BoatNr  SlotNr  ...  \\\n",
      "0  P005094R001S00025  GEN2_C-Sample_L36_LG-M50L_V2      76       1  ...   \n",
      "1  P002759R001S00034  GEN2_C-Sample_L18_LG-M50L_V2      77       1  ...   \n",
      "2  P002759R001S00034  GEN2_C-Sample_L18_LG-M50L_V2      77       1  ...   \n",
      "3  P002759R001S00034  GEN2_C-Sample_L18_LG-M50L_V2      77       1  ...   \n",
      "4  P002759R001S00034  GEN2_C-Sample_L18_LG-M50L_V2      77       1  ...   \n",
      "5  P002759R001S00034  GEN2_C-Sample_L18_LG-M50L_V2      77       1  ...   \n",
      "6  P002759R001S00034  GEN2_C-Sample_L18_LG-M50L_V2      77       1  ...   \n",
      "7  P002759R001S00034  GEN2_C-Sample_L18_LG-M50L_V2      77       1  ...   \n",
      "8  P002759R001S00034  GEN2_C-Sample_L18_LG-M50L_V2      77       1  ...   \n",
      "9  P002759R001S00034  GEN2_C-Sample_L18_LG-M50L_V2      77       1  ...   \n",
      "\n",
      "   PgmAdjustY2_2  ActAdjustX2_2  ActAdjustY2_2  BondProcessId_2  ChipName_2  \\\n",
      "0              0              0              0           111418         PCB   \n",
      "1              0              0              0           111422         BSB   \n",
      "2              0              0              0           111426         BSB   \n",
      "3              0              0              0           111430         BSB   \n",
      "4              0              0              0           111434         PCB   \n",
      "5              0              0              0           111436         PCB   \n",
      "6              0              0              0           111440         PCB   \n",
      "7              0              0              0           111442         PCB   \n",
      "8              0              0              0           111454         PCB   \n",
      "9              0              0              0           111458         PCB   \n",
      "\n",
      "   US_StartPower_2  US_RampTime1_2  US_StartTime_2  US_RampTime2_2  \\\n",
      "0              100               1               0               0   \n",
      "1              100               1               0               0   \n",
      "2              100               1               0               0   \n",
      "3              100               1               0               0   \n",
      "4              100               1               0               0   \n",
      "5              100               1               0               0   \n",
      "6              100               1               0               0   \n",
      "7              100               1               0               0   \n",
      "8              100               1               0               0   \n",
      "9              100               1               0               0   \n",
      "\n",
      "   ConnectionFailure  \n",
      "0                  0  \n",
      "1                  0  \n",
      "2                  0  \n",
      "3                  0  \n",
      "4                  0  \n",
      "5                  0  \n",
      "6                  0  \n",
      "7                  0  \n",
      "8                  0  \n",
      "9                  0  \n",
      "\n",
      "[10 rows x 425 columns]\n"
     ]
    }
   ],
   "source": [
    "print(data.head(10))"
   ]
  },
  {
   "cell_type": "markdown",
   "metadata": {},
   "source": [
    "### Removing non-unique value columns"
   ]
  },
  {
   "cell_type": "code",
   "execution_count": 3,
   "metadata": {},
   "outputs": [
    {
     "name": "stdout",
     "output_type": "stream",
     "text": [
      "Original dataset column count: 425\n",
      "Non-unique column count:167\n",
      "Reduced dataset col count: 258\n"
     ]
    }
   ],
   "source": [
    "# Non-unique values\n",
    "print(\"Original dataset column count: \" + str(len(data.columns)))\n",
    "non_unique_columns = data.columns[data.nunique() == 1]\n",
    "print(\"Non-unique column count:\" +str(len(non_unique_columns)))\n",
    "\n",
    "# Exclude non-unique columns from the DataFrame\n",
    "df0 = data.drop(columns=non_unique_columns)\n",
    "print(\"Reduced dataset col count: \" + str(len(df0.columns)))\n"
   ]
  },
  {
   "cell_type": "markdown",
   "metadata": {},
   "source": [
    "### Removing nan values"
   ]
  },
  {
   "cell_type": "code",
   "execution_count": 4,
   "metadata": {},
   "outputs": [],
   "source": [
    "# Drop columns only with nan values\n",
    "df1 = df0.dropna(axis=1, how='all')"
   ]
  },
  {
   "cell_type": "code",
   "execution_count": 5,
   "metadata": {},
   "outputs": [
    {
     "name": "stdout",
     "output_type": "stream",
     "text": [
      "Count of Columns with Nan:  10\n"
     ]
    }
   ],
   "source": [
    "has_nan = df1.isna().any()\n",
    "\n",
    "# Columns with NaN values\n",
    "columns_with_nan = has_nan[has_nan].index.tolist()\n",
    "print(\"Count of Columns with Nan: \", len(columns_with_nan))\n"
   ]
  },
  {
   "cell_type": "code",
   "execution_count": 6,
   "metadata": {},
   "outputs": [
    {
     "name": "stdout",
     "output_type": "stream",
     "text": [
      "Number of NaN values in column 'PullResult_1': 2005\n",
      "Number of NaN values in column 'VCPullState_1': 2005\n",
      "Number of NaN values in column 'PullResult_2': 2027\n",
      "Number of NaN values in column 'VCPullState_2': 2005\n",
      "Number of NaN values in column 'DeformData_2_Unit': 2005\n",
      "Number of NaN values in column 'DeformData_2_Descr': 2005\n",
      "Number of NaN values in column 'UsgData1_2_Unit': 2005\n",
      "Number of NaN values in column 'UsgData1_2_Descr': 2005\n",
      "Number of NaN values in column 'UsgData2_2_Unit': 2005\n",
      "Number of NaN values in column 'UsgData2_2_Descr': 2005\n"
     ]
    }
   ],
   "source": [
    "# Count instances with NaN value\n",
    "\n",
    "for column in columns_with_nan:\n",
    "    nan_count = df1[column].isna().sum()\n",
    "    print(f\"Number of NaN values in column '{column}': {nan_count}\")"
   ]
  },
  {
   "cell_type": "markdown",
   "metadata": {},
   "source": [
    "### Removing instances containing nan values"
   ]
  },
  {
   "cell_type": "code",
   "execution_count": 7,
   "metadata": {},
   "outputs": [],
   "source": [
    "df2 = df1.dropna()"
   ]
  },
  {
   "cell_type": "markdown",
   "metadata": {},
   "source": [
    "### Removing non-relevant features\n",
    "Index; data source, key, timestamp, PullResult1, PullResult2"
   ]
  },
  {
   "cell_type": "code",
   "execution_count": 8,
   "metadata": {},
   "outputs": [
    {
     "name": "stdout",
     "output_type": "stream",
     "text": [
      "['PgmAdjustX1_1', 'PgmAdjustY1_1', 'ActAdjustX1_1', 'ActAdjustY1_1', 'PgmAdjustX2_1', 'PgmAdjustY2_1', 'ActAdjustX2_1', 'ActAdjustY2_1', 'PgmAdjustX1_2', 'PgmAdjustY1_2', 'ActAdjustX1_2', 'ActAdjustY1_2', 'PgmAdjustX2_2', 'PgmAdjustY2_2', 'ActAdjustX2_2', 'ActAdjustY2_2']\n"
     ]
    }
   ],
   "source": [
    "adjust_columns = [col for col in df2.columns if 'Adjust' in col]\n",
    "print(adjust_columns)"
   ]
  },
  {
   "cell_type": "code",
   "execution_count": 9,
   "metadata": {},
   "outputs": [
    {
     "name": "stdout",
     "output_type": "stream",
     "text": [
      "Reduced dataset col count: 193\n"
     ]
    }
   ],
   "source": [
    "# 1th iteration non-relevant features\n",
    "not_relevant_features = df2[[\"Data_source\",\"_Key\",\"Timestamp\", \"PullResult_1\", \"PullResult_2\",'DeformData_2_Unit','DeformData_2_Descr', 'UsgData1_2_Unit', 'UsgData1_2_Descr','UsgData2_2_Unit', 'UsgData2_2_Descr']]\n",
    "# 2nd iteration non-relevant features\n",
    "also_not_relevant_features = df2[['MatKey', 'Id','PgmAdjustX1_1', 'PgmAdjustY1_1', 'ActAdjustX1_1', 'ActAdjustY1_1', 'PgmAdjustX2_1', 'PgmAdjustY2_1', 'ActAdjustX2_1', 'ActAdjustY2_1', 'PgmAdjustX1_2', 'PgmAdjustY1_2', 'ActAdjustX1_2', 'ActAdjustY1_2', 'PgmAdjustX2_2', 'PgmAdjustY2_2', 'ActAdjustX2_2', 'ActAdjustY2_2']]\n",
    "all_non_relevant_features = not_relevant_features.columns.union(also_not_relevant_features.columns)\n",
    "\n",
    "df3 = df2.drop(columns=all_non_relevant_features)\n",
    "print(\"Reduced dataset col count: \" + str(len(df3.columns)))"
   ]
  },
  {
   "cell_type": "code",
   "execution_count": 10,
   "metadata": {},
   "outputs": [
    {
     "name": "stdout",
     "output_type": "stream",
     "text": [
      "ConnectionFailure\n",
      "0    254935\n",
      "1      3685\n",
      "Name: count, dtype: int64\n"
     ]
    }
   ],
   "source": [
    "val_counts_1 = df3[\"ConnectionFailure\"].value_counts()\n",
    "print(val_counts_1)"
   ]
  },
  {
   "cell_type": "markdown",
   "metadata": {},
   "source": [
    "### Removing test modules"
   ]
  },
  {
   "cell_type": "code",
   "execution_count": 11,
   "metadata": {},
   "outputs": [
    {
     "name": "stdout",
     "output_type": "stream",
     "text": [
      "                PartID  ConnectionFailure_0  ConnectionFailure_1\n",
      "25   P002759R001S00053                  325                  140\n",
      "28   P002759R001S00056                  330                   18\n",
      "37   P002759R001S00065                  326                  131\n",
      "51   P002759R001S00079                  347                   97\n",
      "126  P002759R002S00064                  355                   73\n",
      "211  P005094R002S00015                  653                   19\n",
      "217  P005094R002S00021                  688                   16\n",
      "218  P005094R002S00022                  656                   25\n",
      "220  P005094R002S00024                  655                   15\n",
      "230  P005094R002S00034                  664                   12\n",
      "240  P005094R002S00044                  651                   17\n",
      "241  P005094R002S00045                  648                   25\n",
      "246  P005094R002S00050                  640                   21\n",
      "251  P005094R002S00055                  651                   17\n",
      "252  P005094R002S00056                  667                   15\n",
      "253  P005094R002S00057                  701                   16\n",
      "254  P005094R002S00058                  695                   16\n",
      "256  P005094R002S00060                  713                   74\n",
      "266  P005094R002S00071                  661                   66\n",
      "280  P005094R002S00087                  655                 1329\n",
      "323  P005127R002S00002                  475                  353\n",
      "327  P005127R002S00006                  437                   83\n",
      "368  P005134R001S00032                  537                   62\n",
      "371  P005134R001S00035                  512                  323\n",
      "412  P005134R002S00017                  551                   13\n",
      "511  P005134R002S00116                  531                   16\n",
      "563   Pascal-IST-00000                   77                   52\n"
     ]
    }
   ],
   "source": [
    "result = df3.groupby(['PartID', 'ConnectionFailure']).size().unstack(fill_value=0)\n",
    "result.columns = ['ConnectionFailure_0', 'ConnectionFailure_1']\n",
    "\n",
    "result = result.reset_index()\n",
    "result_filtered = result[result['ConnectionFailure_1'] > 10]\n",
    "\n",
    "print(result_filtered)"
   ]
  },
  {
   "cell_type": "code",
   "execution_count": 12,
   "metadata": {},
   "outputs": [
    {
     "data": {
      "image/png": "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",
      "text/plain": [
       "<Figure size 640x480 with 1 Axes>"
      ]
     },
     "metadata": {},
     "output_type": "display_data"
    }
   ],
   "source": [
    "import matplotlib.pyplot as plt\n",
    "\n",
    "colors = ['skyblue', 'red']\n",
    "result_filtered.plot(kind='bar', x='PartID', y=['ConnectionFailure_0', 'ConnectionFailure_1'], stacked=True, color=colors)\n",
    "\n",
    "plt.xlabel('PartID')\n",
    "plt.ylabel('Count')\n",
    "plt.title('Connection Failure Counts by PartID')\n",
    "plt.show()"
   ]
  },
  {
   "cell_type": "code",
   "execution_count": 13,
   "metadata": {},
   "outputs": [],
   "source": [
    "values_to_drop = ['P005094R002S00087', 'Pascal-IST-00000']\n",
    "mask = df3['PartID'].isin(values_to_drop)\n",
    "df3_filtered = df3[~mask]"
   ]
  },
  {
   "cell_type": "code",
   "execution_count": 14,
   "metadata": {},
   "outputs": [],
   "source": [
    "df4 = df3_filtered.drop(columns=[\"PartID\"])"
   ]
  },
  {
   "cell_type": "markdown",
   "metadata": {},
   "source": [
    "### Encoding categorical values"
   ]
  },
  {
   "cell_type": "code",
   "execution_count": 15,
   "metadata": {},
   "outputs": [
    {
     "name": "stdout",
     "output_type": "stream",
     "text": [
      "Columns with data type 'object': ['MachineID', 'PgmName', 'ChipName_1', 'ChipName_2']\n"
     ]
    }
   ],
   "source": [
    "object_columns = df4.select_dtypes(include=['object'])\n",
    "\n",
    "# Columns with data type 'object'\n",
    "object_column_names = object_columns.columns.tolist()\n",
    "print(\"Columns with data type 'object':\", object_column_names)"
   ]
  },
  {
   "cell_type": "code",
   "execution_count": 16,
   "metadata": {},
   "outputs": [],
   "source": [
    "# One-hot encoding\n",
    "df_encoded = pd.get_dummies(df4, columns = ['MachineID', 'PgmName', 'ChipName_1', 'ChipName_2'], dtype=int)"
   ]
  },
  {
   "cell_type": "code",
   "execution_count": 17,
   "metadata": {},
   "outputs": [
    {
     "name": "stdout",
     "output_type": "stream",
     "text": [
      "Data Type: int64\n",
      "Data Type: float64\n",
      "Data Type: int32\n"
     ]
    }
   ],
   "source": [
    "# Check data types\n",
    "data_types = df_encoded.dtypes.unique()\n",
    "for datatype in data_types:\n",
    "    print(f\"Data Type: {datatype}\")\n"
   ]
  },
  {
   "cell_type": "code",
   "execution_count": 18,
   "metadata": {},
   "outputs": [
    {
     "data": {
      "text/plain": [
       "(256507, 226)"
      ]
     },
     "execution_count": 18,
     "metadata": {},
     "output_type": "execute_result"
    }
   ],
   "source": [
    "df_encoded.shape"
   ]
  },
  {
   "cell_type": "code",
   "execution_count": 19,
   "metadata": {},
   "outputs": [
    {
     "name": "stdout",
     "output_type": "stream",
     "text": [
      "ConnectionFailure\n",
      "0    254203\n",
      "1      2304\n",
      "Name: count, dtype: int64\n"
     ]
    }
   ],
   "source": [
    "val_counts_2 = df_encoded[\"ConnectionFailure\"].value_counts()\n",
    "print(val_counts_2)"
   ]
  },
  {
   "cell_type": "markdown",
   "metadata": {},
   "source": [
    "### Save pre-processed data in CVS"
   ]
  },
  {
   "cell_type": "code",
   "execution_count": 20,
   "metadata": {},
   "outputs": [],
   "source": [
    "path = r\"\ProcessedData.csv\"\n",
    "df_encoded.to_csv(path, index=False)\n"
   ]
  }
 ],
 "metadata": {
  "kernelspec": {
   "display_name": "base",
   "language": "python",
   "name": "python3"
  },
  "language_info": {
   "codemirror_mode": {
    "name": "ipython",
    "version": 3
   },
   "file_extension": ".py",
   "mimetype": "text/x-python",
   "name": "python",
   "nbconvert_exporter": "python",
   "pygments_lexer": "ipython3",
   "version": "3.11.4"
  },
  "orig_nbformat": 4
 },
 "nbformat": 4,
 "nbformat_minor": 2
}
